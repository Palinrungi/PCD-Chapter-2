{
  "nbformat": 4,
  "nbformat_minor": 0,
  "metadata": {
    "colab": {
      "provenance": []
    },
    "kernelspec": {
      "name": "python3",
      "display_name": "Python 3"
    },
    "language_info": {
      "name": "python"
    }
  },
  "cells": [
    {
      "cell_type": "code",
      "source": [],
      "metadata": {
        "id": "xGo_8ZL_Lz4d"
      },
      "execution_count": null,
      "outputs": []
    },
    {
      "cell_type": "code",
      "source": [
        "from google.colab import drive\n",
        "drive.mount('/content/drive')"
      ],
      "metadata": {
        "colab": {
          "base_uri": "https://localhost:8080/"
        },
        "id": "bQXBiqH7L48R",
        "outputId": "c40b0bce-1805-45b4-86cb-967943530b65"
      },
      "execution_count": null,
      "outputs": [
        {
          "output_type": "stream",
          "name": "stdout",
          "text": [
            "Mounted at /content/drive\n"
          ]
        }
      ]
    },
    {
      "cell_type": "code",
      "source": [
        " !pip install Pillow"
      ],
      "metadata": {
        "colab": {
          "base_uri": "https://localhost:8080/"
        },
        "id": "88bR4sqiOBWC",
        "outputId": "12bdae22-944a-41c0-8eed-d11001cb88ae"
      },
      "execution_count": null,
      "outputs": [
        {
          "output_type": "stream",
          "name": "stdout",
          "text": [
            "Requirement already satisfied: Pillow in /usr/local/lib/python3.10/dist-packages (11.0.0)\n"
          ]
        }
      ]
    },
    {
      "cell_type": "code",
      "execution_count": null,
      "metadata": {
        "colab": {
          "base_uri": "https://localhost:8080/"
        },
        "id": "rK6mZ050Lw1P",
        "outputId": "5a376e0f-03c2-4b41-8d36-e273de113b58"
      },
      "outputs": [
        {
          "output_type": "stream",
          "name": "stdout",
          "text": [
            "Epoch [1/50], Loss: 0.0000\n",
            "Epoch [2/50], Loss: 0.0000\n",
            "Epoch [3/50], Loss: 0.0000\n",
            "Epoch [4/50], Loss: 0.0000\n",
            "Epoch [5/50], Loss: 0.0000\n",
            "Epoch [6/50], Loss: 0.0000\n",
            "Epoch [7/50], Loss: 0.0000\n",
            "Epoch [8/50], Loss: 0.0000\n",
            "Epoch [9/50], Loss: 0.0000\n",
            "Epoch [10/50], Loss: 0.0000\n",
            "Epoch [11/50], Loss: 0.0000\n",
            "Epoch [12/50], Loss: 0.0000\n",
            "Epoch [13/50], Loss: 0.0000\n",
            "Epoch [14/50], Loss: 0.0000\n",
            "Epoch [15/50], Loss: 0.0000\n",
            "Epoch [16/50], Loss: 0.0000\n",
            "Epoch [17/50], Loss: 0.0000\n",
            "Epoch [18/50], Loss: 0.0000\n",
            "Epoch [19/50], Loss: 0.0000\n",
            "Epoch [20/50], Loss: 0.0000\n",
            "Epoch [21/50], Loss: 0.0000\n",
            "Epoch [22/50], Loss: 0.0000\n",
            "Epoch [23/50], Loss: 0.0000\n",
            "Epoch [24/50], Loss: 0.0000\n",
            "Epoch [25/50], Loss: 0.0000\n",
            "Epoch [26/50], Loss: 0.0000\n",
            "Epoch [27/50], Loss: 0.0000\n",
            "Epoch [28/50], Loss: 0.0000\n",
            "Epoch [29/50], Loss: 0.0000\n",
            "Epoch [30/50], Loss: 0.0000\n",
            "Epoch [31/50], Loss: 0.0000\n",
            "Epoch [32/50], Loss: 0.0000\n",
            "Epoch [33/50], Loss: 0.0000\n",
            "Epoch [34/50], Loss: 0.0000\n",
            "Epoch [35/50], Loss: 0.0000\n",
            "Epoch [36/50], Loss: 0.0000\n",
            "Epoch [37/50], Loss: 0.0000\n",
            "Epoch [38/50], Loss: 0.0000\n",
            "Epoch [39/50], Loss: 0.0000\n",
            "Epoch [40/50], Loss: 0.0000\n",
            "Epoch [41/50], Loss: 0.0000\n",
            "Epoch [42/50], Loss: 0.0000\n",
            "Epoch [43/50], Loss: 0.0000\n",
            "Epoch [44/50], Loss: 0.0000\n",
            "Epoch [45/50], Loss: 0.0000\n",
            "Epoch [46/50], Loss: 0.0000\n",
            "Epoch [47/50], Loss: 0.0000\n",
            "Epoch [48/50], Loss: 0.0000\n",
            "Epoch [49/50], Loss: 0.0000\n",
            "Epoch [50/50], Loss: 0.0000\n",
            "Training selesai.\n"
          ]
        }
      ],
      "source": [
        "import os\n",
        "import numpy as np\n",
        "import torch\n",
        "from torch import nn\n",
        "from torch.autograd import Variable\n",
        "from torch.utils.data import DataLoader, TensorDataset\n",
        "from torchvision.utils import save_image\n",
        "from sklearn.datasets import fetch_lfw_people\n",
        "from PIL import Image\n",
        "\n",
        "def to_img(x):\n",
        "    return x.view(x.size(0), 1, 50, 37)\n",
        "\n",
        "def save_sample(img, name):\n",
        "    if not os.path.exists('./samples'):\n",
        "        os.makedirs('./samples')\n",
        "    save_image(img.view(1, 50, 37), f'./samples/{name}.png')\n",
        "\n",
        "def add_noise(img):\n",
        "    return torch.clamp(img + torch.randn(img.size()) * 0.2, 0., 1.)\n",
        "\n",
        "dataset = fetch_lfw_people(min_faces_per_person=70, resize=0.4).images / 255\n",
        "dataset = torch.tensor(dataset, dtype=torch.float32).unsqueeze(1)\n",
        "dataloader = DataLoader(TensorDataset(dataset), batch_size=4, shuffle=True)\n",
        "\n",
        "class Autoencoder(nn.Module):\n",
        "    def __init__(self): # Ganti _init_ menjadi __init__\n",
        "        super(Autoencoder, self).__init__()\n",
        "        self.encoder = nn.Sequential(\n",
        "            nn.Linear(50 * 37, 256),\n",
        "            nn.ReLU(True),\n",
        "            nn.Linear(256, 64)\n",
        "        )\n",
        "        self.decoder = nn.Sequential(\n",
        "            nn.Linear(64, 256),\n",
        "            nn.ReLU(True),\n",
        "            nn.Linear(256, 50 * 37),\n",
        "            nn.Sigmoid()\n",
        "        )\n",
        "\n",
        "    def forward(self, x):\n",
        "        return self.decoder(self.encoder(x))\n",
        "\n",
        "cuda = torch.cuda.is_available()\n",
        "model = Autoencoder().cuda() if cuda else Autoencoder()\n",
        "criterion = nn.MSELoss()\n",
        "optimizer = torch.optim.Adam(model.parameters(), lr=1e-3, weight_decay=1e-5)\n",
        "\n",
        "for epoch in range(1, 51):\n",
        "    for data in dataloader:\n",
        "        img = data[0]\n",
        "        noisy_img = add_noise(img)\n",
        "        img, noisy_img = img.view(img.size(0), -1), noisy_img.view(noisy_img.size(0), -1)\n",
        "\n",
        "        if cuda:\n",
        "            img, noisy_img = img.cuda(), noisy_img.cuda()\n",
        "\n",
        "        output = model(noisy_img)\n",
        "        loss = criterion(output, img)\n",
        "\n",
        "        optimizer.zero_grad()\n",
        "        loss.backward()\n",
        "        optimizer.step()\n",
        "\n",
        "    print(f'Epoch [{epoch}/50], Loss: {loss.item():.4f}')\n",
        "\n",
        "    if epoch % 10 == 0:\n",
        "        save_sample(to_img(img.cpu().data)[0], f'epoch_{epoch}_original')\n",
        "        save_sample(to_img(output.cpu().data)[0], f'epoch_{epoch}_reconstructed')\n",
        "\n",
        "print(\"Training selesai.\")\n",
        "\n",
        "\n"
      ]
    }
  ]
}