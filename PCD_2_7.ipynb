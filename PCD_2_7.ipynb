{
  "nbformat": 4,
  "nbformat_minor": 0,
  "metadata": {
    "colab": {
      "provenance": []
    },
    "kernelspec": {
      "name": "python3",
      "display_name": "Python 3"
    },
    "language_info": {
      "name": "python"
    }
  },
  "cells": [
    {
      "cell_type": "code",
      "execution_count": null,
      "metadata": {
        "colab": {
          "base_uri": "https://localhost:8080/"
        },
        "id": "FWFX5CtTL4k4",
        "outputId": "ff608424-31c3-4f10-dadf-d9b158e95108"
      },
      "outputs": [
        {
          "output_type": "stream",
          "name": "stdout",
          "text": [
            "Mounted at /content/drive\n"
          ]
        }
      ],
      "source": [
        "from google.colab import drive\n",
        "drive.mount('/content/drive')"
      ]
    },
    {
      "cell_type": "code",
      "source": [
        "import cv2\n",
        "import numpy as np\n",
        "\n",
        "print(\"OpenCV Version:\", cv2.__version__)\n",
        "\n",
        "def load_image(path, flags=cv2.IMREAD_COLOR):\n",
        "    img = cv2.imread(path, flags)\n",
        "    if img is None:\n",
        "        print(f\"Error: Gambar di {path} tidak dapat dimuat.\")\n",
        "        exit()\n",
        "    return img\n",
        "\n",
        "src = load_image('/content/drive/MyDrive/images/angkasa.jpg')\n",
        "dst = load_image('/content/drive/MyDrive/images/marquez.png')\n",
        "src_mask = load_image('/content/drive/MyDrive/images/mask.jpg', cv2.IMREAD_GRAYSCALE)\n",
        "\n",
        "src = np.array(src, dtype=np.uint8)\n",
        "src_mask = np.array(src_mask, dtype=np.uint8)\n",
        "\n",
        "src = cv2.resize(src, (dst.shape[1], dst.shape[0]))\n",
        "src_mask = cv2.resize(src_mask, (src.shape[1], src.shape[0]))\n",
        "\n",
        "print(\"Shape of src after resize:\", src.shape)\n",
        "print(\"Shape of src_mask after resize:\", src_mask.shape)\n",
        "\n",
        "center = (dst.shape[1] // 2, dst.shape[0] // 2)\n",
        "\n",
        "if center[0] >= dst.shape[1] or center[1] >= dst.shape[0]:\n",
        "    print(\"Error: Titik tengah di luar batas gambar tujuan.\")\n",
        "    exit()\n",
        "\n",
        "output = cv2.seamlessClone(src, dst, src_mask, center, cv2.MIXED_CLONE)\n",
        "\n",
        "cv2.imwrite('/content/drive/MyDrive/images/balap3.png', output)\n",
        "\n",
        "print(\"Seamless Cloning selesai, hasil disimpan di '/content/drive/MyDrive/images/balap3.png'\")"
      ],
      "metadata": {
        "colab": {
          "base_uri": "https://localhost:8080/"
        },
        "id": "gKcIBW7FMNIA",
        "outputId": "2071a5f9-2fe8-4a40-dfef-0d19d279b1ee"
      },
      "execution_count": null,
      "outputs": [
        {
          "output_type": "stream",
          "name": "stdout",
          "text": [
            "OpenCV Version: 4.11.0\n",
            "Shape of src after resize: (408, 612, 3)\n",
            "Shape of src_mask after resize: (408, 612)\n",
            "Seamless Cloning selesai, hasil disimpan di '/content/drive/MyDrive/images/balap3.png'\n"
          ]
        }
      ]
    }
  ]
}